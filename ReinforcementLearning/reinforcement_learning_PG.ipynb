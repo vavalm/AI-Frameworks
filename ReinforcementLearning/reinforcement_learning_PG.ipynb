{
 "cells": [
  {
   "cell_type": "markdown",
   "metadata": {},
   "source": [
    "# AI-Frameworks"
   ]
  },
  {
   "cell_type": "markdown",
   "metadata": {},
   "source": [
    "<center>\n",
    "<a href=\"http://www.insa-toulouse.fr/\" ><img src=\"http://www.math.univ-toulouse.fr/~besse/Wikistat/Images/logo-insa.jpg\" style=\"float:left; max-width: 120px; display: inline\" alt=\"INSA\"/></a> \n",
    "<a href=\"http://wikistat.fr/\" ><img src=\"http://www.math.univ-toulouse.fr/~besse/Wikistat/Images/wikistat.jpg\" width=400, style=\"max-width: 150px; display: inline\"  alt=\"Wikistat\"/></a>\n",
    "<a href=\"http://www.math.univ-toulouse.fr/\" ><img src=\"http://www.math.univ-toulouse.fr/~besse/Wikistat/Images/logo_imt.jpg\" width=400,  style=\"float:right;  display: inline\" alt=\"IMT\"/> </a>\n",
    "    \n",
    "</center>"
   ]
  },
  {
   "cell_type": "markdown",
   "metadata": {},
   "source": [
    "# LAB 4 Introduction to Reinforcement Learning  -  Part 1 : Policy Gradient Algorithm\n",
    "\n",
    "The objectives of this noteboks are the following : \n",
    "\n",
    "* Discover AI Gym libairys and invironment\n",
    "* Implement Hard-Coded & And Neural network policy\n",
    "* Implement Policy gradient algorithm\n",
    " \n",
    "Source : [https://github.com/ageron/handson-ml](https://github.com/ageron/handson-ml) and https://github.com/breeko/Simple-Reinforcement-Learning-with-Tensorflow/blob/master/Part%202%20-%20Policy-based%20Agents%20with%20Keras.ipynb"
   ]
  },
  {
   "cell_type": "markdown",
   "metadata": {},
   "source": [
    "# Import librairies"
   ]
  },
  {
   "cell_type": "code",
   "execution_count": 1,
   "metadata": {},
   "outputs": [],
   "source": [
    "import numpy as np\n",
    "import random\n",
    "import os\n",
    "\n",
    "# to make this notebook's output stable across runs\n",
    "def reset_graph(seed=42):\n",
    "    tf.reset_default_graph()\n",
    "    tf.set_random_seed(seed)\n",
    "    np.random.seed(seed)\n",
    "\n",
    "# To plot figures and animations\n",
    "%matplotlib inline\n",
    "%matplotlib nbagg\n",
    "import matplotlib\n",
    "import matplotlib.animation as animation\n",
    "import matplotlib.pyplot as plt\n",
    "from IPython.display import HTML\n",
    "\n",
    "plt.rcParams['axes.labelsize'] = 14\n",
    "plt.rcParams['xtick.labelsize'] = 12\n",
    "plt.rcParams['ytick.labelsize'] = 12\n",
    "\n",
    "#Tensorflow/Keras utils\n",
    "import tensorflow.keras.models as km\n",
    "import tensorflow.keras.layers as kl\n",
    "import tensorflow.keras.initializers as ki\n",
    "import tensorflow.keras.optimizers as ko\n",
    "import tensorflow.keras.losses as klo\n",
    "import tensorflow.keras.backend as K\n",
    "\n",
    "\n",
    "# Gym Library\n",
    "import gym"
   ]
  },
  {
   "cell_type": "markdown",
   "metadata": {
    "toc-hr-collapsed": true
   },
   "source": [
    "# AI Gym Librairie\n",
    "<a href=\"https://gym.openai.com/\" ><img src=\"https://gym.openai.com/assets/dist/home/header/home-icon-54c30e2345.svg\" style=\"float:left; max-width: 120px; display: inline\" alt=\"INSA\"/></a> "
   ]
  },
  {
   "cell_type": "markdown",
   "metadata": {},
   "source": [
    "In this notebook we will be using [OpenAI gym](https://gym.openai.com/), a great toolkit for developing and comparing Reinforcement Learning algorithms. It provides many environments for your learning *agents* to interact with."
   ]
  },
  {
   "cell_type": "markdown",
   "metadata": {},
   "source": [
    "# A simple environment: the Cart-Pole"
   ]
  },
  {
   "cell_type": "markdown",
   "metadata": {},
   "source": [
    "## Description\n",
    "A pole is attached by an un-actuated joint to a cart, which moves along a frictionless track. The pendulum starts upright, and the goal is to prevent it from falling over by increasing and reducing the cart's velocity.\n",
    "\n",
    "### Observation\n",
    "\n",
    "Num | Observation | Min | Max\n",
    "---|---|---|---\n",
    "0 | Cart Position | -2.4 | 2.4\n",
    "1 | Cart Velocity | -Inf | Inf\n",
    "2 | Pole Angle | ~ -41.8&deg; | ~ 41.8&deg;\n",
    "3 | Pole Velocity At Tip | -Inf | Inf\n",
    "\n",
    "### Actions\n",
    "\n",
    "Num | Action\n",
    "--- | ---\n",
    "0 | Push cart to the left\n",
    "1 | Push cart to the right\n",
    "\n",
    "Note: The amount the velocity is reduced or increased is not fixed as it depends on the angle the pole is pointing. This is because the center of gravity of the pole increases the amount of energy needed to move the cart underneath it\n",
    "\n",
    "### Reward\n",
    "Reward is 1 for every step taken, including the termination step\n",
    "\n",
    "### Starting State\n",
    "All observations are assigned a uniform random value between ±0.05\n",
    "\n",
    "### Episode Termination\n",
    "1. Pole Angle is more than ±12°\n",
    "2. Cart Position is more than ±2.4 (center of the cart reaches the edge of the display)\n",
    "3. Episode length is greater than 200\n",
    "\n",
    "### Solved Requirements\n",
    "Considered solved when the average reward is greater than or equal to 195.0 over 100 consecutive trials.\n",
    "\n",
    "The description above if part of the official description of this environemtn. Read full description [here](https://github.com/openai/gym/wiki/CartPole-v0).\n",
    "\n",
    "The following command will load the `CartPole` environment."
   ]
  },
  {
   "cell_type": "code",
   "execution_count": 2,
   "metadata": {},
   "outputs": [],
   "source": [
    "env = gym.make(\"CartPole-v0\")"
   ]
  },
  {
   "cell_type": "markdown",
   "metadata": {},
   "source": [
    "The `reset` command initialize the environement and return the first observation which are a 1D array of size 4."
   ]
  },
  {
   "cell_type": "code",
   "execution_count": 3,
   "metadata": {},
   "outputs": [
    {
     "data": {
      "text/plain": [
       "(Box(4,), array([-0.0455542 , -0.02916139,  0.04735974, -0.0296928 ]))"
      ]
     },
     "execution_count": 3,
     "metadata": {},
     "output_type": "execute_result"
    }
   ],
   "source": [
    "obs = env.reset()\n",
    "env.observation_space, obs"
   ]
  },
  {
   "cell_type": "markdown",
   "metadata": {},
   "source": [
    "**Q:** What are the four output above?"
   ]
  },
  {
   "cell_type": "markdown",
   "metadata": {},
   "source": [
    "The `render` command allow to generate the environment which is here a 400X600 pixels with RGB channel. \n",
    "\n",
    "The `render` command for the `CartPole`environment also open another window that we will close directly with the `env.close`command bu can produce disturbing behaviour."
   ]
  },
  {
   "cell_type": "code",
   "execution_count": 4,
   "metadata": {},
   "outputs": [
    {
     "name": "stdout",
     "output_type": "stream",
     "text": [
      "Environemnt is a 400x600x3 images\n"
     ]
    }
   ],
   "source": [
    "img = env.render(mode = \"rgb_array\")\n",
    "env.close()\n",
    "print(\"Environemnt is a %dx%dx%d images\" %img.shape)"
   ]
  },
  {
   "cell_type": "markdown",
   "metadata": {},
   "source": [
    "The environment can then easily be displayed with matplotlib function. "
   ]
  },
  {
   "cell_type": "code",
   "execution_count": 5,
   "metadata": {},
   "outputs": [
    {
     "data": {
      "text/plain": [
       "(-0.5, 599.5, 399.5, -0.5)"
      ]
     },
     "execution_count": 5,
     "metadata": {},
     "output_type": "execute_result"
    },
    {
     "data": {
      "image/png": "[encoded data removed]",
      "text/plain": [
       "<Figure size 432x288 with 1 Axes>"
      ]
     },
     "metadata": {
      "needs_background": "light"
     },
     "output_type": "display_data"
    }
   ],
   "source": [
    "plt.imshow(img)\n",
    "plt.axis(\"off\")"
   ]
  },
  {
   "cell_type": "markdown",
   "metadata": {},
   "source": [
    "The action space is composed of two actions push to the left (0), push to the right (1)."
   ]
  },
  {
   "cell_type": "code",
   "execution_count": 6,
   "metadata": {},
   "outputs": [
    {
     "data": {
      "text/plain": [
       "Discrete(2)"
      ]
     },
     "execution_count": 6,
     "metadata": {},
     "output_type": "execute_result"
    }
   ],
   "source": [
    "env.action_space"
   ]
  },
  {
   "cell_type": "markdown",
   "metadata": {},
   "source": [
    "The `step function`allow to apply one of this actions and return several information : \n",
    "\n",
    "* The new observation after applying this action\n",
    "* The reward this action has produce\n",
    "* A boolean that indicate if the experience is over or not.\n",
    "* Extra information that depend of the environment (CartPole environment does not provide anything).\n",
    "\n",
    "Let's push the cart pole to the left!"
   ]
  },
  {
   "cell_type": "code",
   "execution_count": 7,
   "metadata": {},
   "outputs": [
    {
     "name": "stdout",
     "output_type": "stream",
     "text": [
      "New observation : [-0.04613743 -0.22492939  0.04676588  0.27754849]\n",
      "Reward : 1.0\n",
      "Is the experience over? : False\n",
      "Extra information : {}\n"
     ]
    }
   ],
   "source": [
    "obs, reward, done, info = env.step(0)\n",
    "print(\"New observation : %s\" %str(obs))\n",
    "print(\"Reward : %s\" %str(reward))\n",
    "print(\"Is the experience over? : %s\" %str(done))\n",
    "print(\"Extra information : %s\" %str(info))\n"
   ]
  },
  {
   "cell_type": "markdown",
   "metadata": {},
   "source": [
    "Let's visualize the environment"
   ]
  },
  {
   "cell_type": "code",
   "execution_count": 8,
   "metadata": {},
   "outputs": [
    {
     "data": {
      "image/png": "[encoded data removed]",
      "text/plain": [
       "<Figure size 432x288 with 1 Axes>"
      ]
     },
     "metadata": {
      "needs_background": "light"
     },
     "output_type": "display_data"
    }
   ],
   "source": [
    "img = env.render(mode = \"rgb_array\")\n",
    "env.close()\n",
    "plt.imshow(img)\n",
    "axs =  plt.axis(\"off\")"
   ]
  },
  {
   "cell_type": "markdown",
   "metadata": {},
   "source": [
    "**Q** : What can you see? Does it seems normal to you?"
   ]
  },
  {
   "cell_type": "markdown",
   "metadata": {},
   "source": [
    "**Exercise** : Reset the environment, and push the car to the left untill the experience is over then display the final environment. \n",
    "**Q** : Why do the environment ends? "
   ]
  },
  {
   "cell_type": "code",
   "execution_count": 9,
   "metadata": {},
   "outputs": [],
   "source": [
    "# %load solutions/exercise_1_1.py"
   ]
  },
  {
   "cell_type": "markdown",
   "metadata": {},
   "source": [
    "## Hard coded policy\n",
    "\n",
    "How can we make the poll remain upright? We will need to define a _policy_ for that. This is the strategy that the agent will use to select an action at each step. It can use all the past actions and observations to decide what to do."
   ]
  },
  {
   "cell_type": "markdown",
   "metadata": {},
   "source": [
    "### Random policy"
   ]
  },
  {
   "cell_type": "markdown",
   "metadata": {},
   "source": [
    "Let's start with a completly random policy and see how much time the poll will remain upright over 100 episodes."
   ]
  },
  {
   "cell_type": "code",
   "execution_count": 10,
   "metadata": {},
   "outputs": [
    {
     "name": "stdout",
     "output_type": "stream",
     "text": [
      "Game played : 0. Reward for the last 10 episode: []\n",
      "Game played : 10. Reward for the last 10 episode: [12.0, 25.0, 11.0, 14.0, 16.0, 14.0, 16.0, 15.0, 11.0, 17.0]\n",
      "Game played : 20. Reward for the last 10 episode: [13.0, 13.0, 18.0, 21.0, 52.0, 39.0, 16.0, 22.0, 35.0, 32.0]\n",
      "Game played : 30. Reward for the last 10 episode: [12.0, 13.0, 24.0, 12.0, 10.0, 19.0, 16.0, 23.0, 14.0, 25.0]\n",
      "Game played : 40. Reward for the last 10 episode: [15.0, 11.0, 17.0, 13.0, 19.0, 11.0, 16.0, 21.0, 40.0, 12.0]\n",
      "Game played : 50. Reward for the last 10 episode: [16.0, 11.0, 18.0, 33.0, 17.0, 12.0, 23.0, 16.0, 112.0, 11.0]\n",
      "Game played : 60. Reward for the last 10 episode: [19.0, 17.0, 12.0, 14.0, 22.0, 11.0, 19.0, 37.0, 12.0, 24.0]\n",
      "Game played : 70. Reward for the last 10 episode: [39.0, 14.0, 12.0, 11.0, 20.0, 18.0, 23.0, 10.0, 10.0, 20.0]\n",
      "Game played : 80. Reward for the last 10 episode: [12.0, 13.0, 16.0, 14.0, 14.0, 32.0, 17.0, 18.0, 28.0, 20.0]\n",
      "Game played : 90. Reward for the last 10 episode: [42.0, 10.0, 74.0, 8.0, 36.0, 65.0, 30.0, 15.0, 13.0, 17.0]\n",
      "Over 100 episodes, mean reward: 21, std : 14\n"
     ]
    }
   ],
   "source": [
    "\n",
    "env.reset()           \n",
    "num_games = 100       \n",
    "reward_sum = 0        \n",
    "all_reward_sum = []   \n",
    "num_game = 0          \n",
    "while num_game < num_games:\n",
    "    observation, reward, done, _ = env.step(env.action_space.sample())\n",
    "    reward_sum += reward\n",
    "    if done:\n",
    "        if num_game %10 == 0:\n",
    "            print(\"Game played : %d. Reward for the last 10 episode: %s\" %(num_game,all_reward_sum[-10:]) )\n",
    "        all_reward_sum.append(reward_sum)\n",
    "        reward_sum = 0\n",
    "        num_game += 1\n",
    "        env.reset()\n",
    "        \n",
    "print(\"Over %d episodes, mean reward: %d, std : %d\" %(num_games, np.mean(all_reward_sum), np.std(all_reward_sum)))"
   ]
  },
  {
   "cell_type": "markdown",
   "metadata": {},
   "source": [
    "#### Visualize a complete game\n",
    "\n",
    "Let's run one pisode with his random policy and save all images representing the environment at each step."
   ]
  },
  {
   "cell_type": "code",
   "execution_count": 11,
   "metadata": {},
   "outputs": [],
   "source": [
    "frames = []\n",
    "\n",
    "env.reset()    \n",
    "observation, reward, done, _ = env.step(env.action_space.sample())\n",
    "reward_sum = 0        \n",
    "while not(done):\n",
    "    img = env.render(mode = \"rgb_array\")\n",
    "    env.close()\n",
    "    frames.append(img)\n",
    "    reward_sum += reward\n",
    "    observation, reward, done, _ = env.step(env.action_space.sample())"
   ]
  },
  {
   "cell_type": "code",
   "execution_count": 12,
   "metadata": {},
   "outputs": [],
   "source": [
    "def update_scene(num, frames, patch):\n",
    "    patch.set_data(frames[num])\n",
    "    return patch,\n",
    "\n",
    "def plot_animation(frames, repeat=False, interval=40):\n",
    "    plt.close()  # or else nbagg sometimes plots in the previous cell\n",
    "    fig = plt.figure()\n",
    "    patch = plt.imshow(frames[0])\n",
    "    plt.axis('off')\n",
    "    return animation.FuncAnimation(fig, update_scene, fargs=(frames, patch), frames=len(frames), repeat=repeat, interval=interval)"
   ]
  },
  {
   "cell_type": "code",
   "execution_count": 13,
   "metadata": {},
   "outputs": [
    {
     "data": {
      "text/html": [
       "<video width=\"432\" height=\"288\" controls autoplay>\n",
       "  <source type=\"video/mp4\" src=\"data:video/mp4;base64,AAAAHGZ0eXBNNFYgAAACAGlzb21pc28yYXZjMQAAAAhmcmVlAAAPmG1kYXQAAAKgBgX//5zcRem9\n",
       "5tlIt5Ys2CDZI+7veDI2NCAtIGNvcmUgMTUyIC0gSC4yNjQvTVBFRy00IEFWQyBjb2RlYyAtIENv\n",
       "cHlsZWZ0IDIwMDMtMjAxNyAtIGh0dHA6Ly93d3cudmlkZW9sYW4ub3JnL3gyNjQuaHRtbCAtIG9w\n",
       "dGlvbnM6IGNhYmFjPTEgcmVmPTMgZGVibG9jaz0xOjA6MCBhbmFseXNlPTB4MzoweDExMyBtZT1o\n",
       "ZXggc3VibWU9NyBwc3k9MSBwc3lfcmQ9MS4wMDowLjAwIG1peGVkX3JlZj0xIG1lX3JhbmdlPTE2\n",
       "IGNocm9tYV9tZT0xIHRyZWxsaXM9MSA4eDhkY3Q9MSBjcW09MCBkZWFkem9uZT0yMSwxMSBmYXN0\n",
       "X3Bza2lwPTEgY2hyb21hX3FwX29mZnNldD0tMiB0aHJlYWRzPTkgbG9va2FoZWFkX3RocmVhZHM9\n",
       "MSBzbGljZWRfdGhyZWFkcz0wIG5yPTAgZGVjaW1hdGU9MSBpbnRlcmxhY2VkPTAgYmx1cmF5X2Nv\n",
       "bXBhdD0wIGNvbnN0cmFpbmVkX2ludHJhPTAgYmZyYW1lcz0zIGJfcHlyYW1pZD0yIGJfYWRhcHQ9\n",
       "MSBiX2JpYXM9MCBkaXJlY3Q9MSB3ZWlnaHRiPTEgb3Blbl9nb3A9MCB3ZWlnaHRwPTIga2V5aW50\n",
       "PTI1MCBrZXlpbnRfbWluPTI1IHNjZW5lY3V0PTQwIGludHJhX3JlZnJlc2g9MCByY19sb29rYWhl\n",
       "YWQ9NDAgcmM9Y3JmIG1idHJlZT0xIGNyZj0yMy4wIHFjb21wPTAuNjAgcXBtaW49MCBxcG1heD02\n",
       "OSBxcHN0ZXA9NCBpcF9yYXRpbz0xLjQwIGFxPTE6MS4wMACAAAABJ2WIhAA7//73Tr8Cm0WXagOS\n",
       "Vwr2yqQmWblSawHypgAAAwAAEbBufJcNeavSJAAArYACODOPhbLXnI5EVrfcApADZvSQdRFOnth+\n",
       "pEDMgbHCViDOacVakSzetmGnKJWaq6CyCGFWbgzdpJNQUUEwT1qB3o7oVzyOQZx70aNY6avUwIwL\n",
       "ml9JTFGO4DAvD8gUx11vDzHbSD5Ik3vOVddrO+4Fk3/0nUvqQfBh50Y2107dgTlqaMQspo84YC8A\n",
       "Wmeom9nFuLSXZjf4iq4UDRdpm06Qm9Dy/bIIlAeqbqeEcxZznro//z0cKAvtUysRbsmtihdIhBkB\n",
       "V8FDDtKP+xdn4qqYpeAIzZL8D7N8QxZsaevLXSeVZn3DLvZn6XZDgbjPh3utAAADAWMAAABkQZok\n",
       "bEO//qmWAAK5OTEGQdSMAFtHgtbfXgMYJibKvSkXZ0FncxN4USinR1VpGVdeVfZITu9uu2E6s80R\n",
       "iIFml5aanpZqkbLgAf2o15F0Cg3RG6YzfeZgGuibKRiN2z1ClZmYcwAAAChBnkJ4hf8ABl9zryBY\n",
       "XElRO79lIWDMLH6u4dMqfoAQDfLk6497Vs7BAAAAGgGeYXRCvwAEU/ASntpsY78gs5rJT/GjHtBA\n",
       "AAAAGgGeY2pCvwAIrr99JX5MSd8AfnKUmH0QHsxBAAAAcUGaaEmoQWiZTAhv//6nhAAFZV+tlTyR\n",
       "EKAIW2OlWuVLNHXnYNvvx87d/1NFch8dOhRqlDWA1m2+6dNaSLnJvNBZCW+D3SVoZjx+wyL9gBbg\n",
       "mVxpf/9m2hRGaEEwYN9b263s8+IOcJPveNAAH6+lrUx/AAAAKkGehkURLC//AAZyIs1zSeV4Lrta\n",
       "rbBFHwJIzuiABn3SWHX9oJ5G+02GwQAAACMBnqV0Qr8ACKuhHwP9TeY5QaoazAuCm4AB1n9UF/wj\n",
       "gc5BgQAAAB4BnqdqQr8ACK6/IlfMHkBTCLky8TM9Pv8D76rkzYAAAABIQZqrSahBbJlMCG///qeE\n",
       "AAViFGWJinbp8s9oAQKp88zwZGHnXbq5nlJ8aynFDUWQtBV6IK4x8mGVvl1GuBkrNg6t78fDoYGz\n",
       "AAAAMEGeyUUVLCv/AAiwZevtHWFc9hOTDFzFl3+qjFqNtwd4AE7edHW4R1pLYgz0Vyp2mQAAABwB\n",
       "nupqQr8ACK6/fHnI7ioLCNIQhoPExef1Be8EAAAAVEGa7EmoQWyZTAh3//6plgACt2sXZuIUkvOe\n",
       "25XQgEIiG4WGMKdEmJ4sAAcGVv/v5YScFkv6rrvm8F/6Amvo8lXFKUsM+/DaB2FnrKKIQKQ71cAt\n",
       "pgAAAExBmxBJ4QpSZTAhv/6nhAAFaL+wBUmnzrjwEfx2TA6T2FCA9CYO2wF+AK3058Now+E2tYXB\n",
       "KElUHGSxu2tXNLb7QrrHRdJAcPxV+ySxAAAAMEGfLkU0TC//AAZxxetySPlX+0uMvKeDao0DLA3d\n",
       "qAYdMAG0GlL8LqX/6mcyMhXzwwAAACABn010Qr8ACKuhYX6KYT387vuAEOj0SwLAuxxgSNufCQAA\n",
       "ACsBn09qQr8ACK6/TFcinMtIhWUXrvj/L2V+YAAdWLglWpbpeHRnVGT/kXggAAAAQ0GbUUmoQWiZ\n",
       "TAh3//6plgACt0o6+F7cHibQALKJ5/WxoDvYUnBMUEGOp9sH5/XSf4o8YQBBnXcEfW/tlNvi8cgn\n",
       "/4AAAABfQZt1SeEKUmUwId/+qZYAArdEPrMbM6Nw5p9/W0AQMV7rl2J9tBAv8yzReqBMVBKeIQIv\n",
       "kPSQiVtzM4vY3U35OzW1dYZYYes5RY+lSY79YDEvkabsJXpKndJKJH/J+90AAAAsQZ+TRTRML/8A\n",
       "BnHF5Xid1qChaSZtsrIhrWduN5M7uRveZ+nuC+4BrMFtF7wAAAAnAZ+ydEK/AAiroUpFSm5LX6cf\n",
       "FmL3ewoAHV5+trWaO6dWyuMQGbTAAAAAIgGftGpCvwAIrr98GXdPJl/hMTpDcn6jNdf9QWVI4qZW\n",
       "RxkAAABHQZu5SahBaJlMCHf//qmWAAK7Ixind+ziADhF4x9wO5WdPU6VfvuwmHpw2Pk4i12FbAwS\n",
       "J61/zNgl5Ixp8YQBulnlq0va0k0AAAA7QZ/XRREsL/8ABnIi7tO/uCExz6gBLaxo+7Xq4TQo5oSk\n",
       "2+c6DP9KUqBGkU5JpslxfWYw7mNCKvcVH70AAAAuAZ/2dEK/AAirokncWOKr88WIjAluKALF69fz\n",
       "qOZABes3HuLM9zkHjehIhMQRgQAAADMBn/hqQr8ACK7AaNGjV1ZEBfnbTfA36iSrBFnWWe7rgADt\n",
       "DSok68Kb1FrlvjFNal8o/+gAAABfQZv9SahBbJlMCHf//qmWAAK3RBADjY83pYQBDraxrp+qUZsZ\n",
       "DDZL/s9zIaJRwrge2kdvwd/IjCStVZ6y53aWg5MlPSWM8Btw0jrNRnSwY48m5KHf7Pf/3CukNTjH\n",
       "GQ0AAABIQZ4bRRUsL/8ABnIi7MJJaxL58EAJplSNIBltay+7IhQ+44fKohmkQFzRgvJyKrR4EC4L\n",
       "Lrx8sue78oSX2ck3wXagXfSgvBkwAAAALgGeOnRCvwAIq6Da4ZlwM4ATKFcMtI6kmz3aqx2+rvlJ\n",
       "i9NOllRf6fxmIbVQoukAAABBAZ48akK/AAiuvygmUL1iV3V6YD/oAJxyJHec771pGotGwAhxWyP3\n",
       "kkwd3MjxmNZLezawCjBI01kBtWOy6ZFBjMEAAAA1QZogSahBbJlMCHf//qmWAALJq8l2Yufc11Qt\n",
       "XgSHWVw9WpoYDa4N4BqeQJjBwo3SDmyzQYAAAAA7QZ5eRRUsK/8ACJKpJh4znsQAnbyEj2jYDHsL\n",
       "nJZn4GVTFDyQFkPaCexS1heSW68sKgA+SkNn379j6YAAAAAfAZ5/akK/AAiuwGmNbA54nDYCV40b\n",
       "9+4a1rzQ05iLKQAAADpBmmRJqEFsmUwIb//+p4QABYgCQiEWYFPffcPPMVjUAINpgmJz6VQB2ta+\n",
       "0Ohwk7Wzl8OQpyLayP1AAAAAMEGegkUVLC//AAZyIxFxrtYAF1AwjrZgCNyr0EVJEvK4FHedG8sj\n",
       "SzIHoO4PXn7R7wAAABcBnqF0Qr8ACKuiSdv+EKHqosLknJsPbgAAACQBnqNqQr8ACK7AaNJ3q5GU\n",
       "AFq2h8cZM/+je4JAjLsmvKRm5cEAAABBQZqmSahBbJlMFEw3//6nhAAFhyPmG3blgBYS4SQMi5RX\n",
       "f+V6AlSDlVv2L2EvjP6h4x90JcUt1ikvUhpRgF3okN8AAAAlAZ7FakK/AAiwZpii2aT4efAuRNyw\n",
       "AsmCR1Gp473ngvzXHD1AYQAAAG1BmspJ4QpSZTAhv/6nhAAFiitREIAWvxM7ekycTX9YGjNApY3V\n",
       "tQ9DFS30ODvUV+fD41RHbYKTwSu4a10lfuKYvq5QfGSa8W4LhQBmyxn9XzsJoN1og+N1xGIh4f4Z\n",
       "3SKNCGsVM+8rhe59M8WBAAAAP0Ge6EU0TC//AAZxxgON5Nkr+tXU7wAV2h29BHqSOtzdm/QXnQ5u\n",
       "/B5JGBk7liTfHLjyQigC1DU3Ifkp/7aVrgAAADEBnwd0Qr8ACKuiR4OaKQEURm6szLjuAZR00wAc\n",
       "0NSRizm4dzDt2mDbh8GKShUxugaQAAAAPAGfCWpCvwAIrsBm/AM5+0d0KKe/OsKNFdNcIAAfzzhT\n",
       "nKBy33FpYE1ca73+v0aywYTuJd0gA4+4b/letwAAAG5Bmw1JqEFomUwIZ//+nhAAFad7ASfyYgAa\n",
       "6WwBInlsOsuVI+FXTfObpXf2zlf/EKsFAySvL9er7bUY/n31c+fyAkdQjABWmn2GV71f0uBluTa3\n",
       "Tx3RYuozP+ks0lJr5NrzFC2nk0686LwrqKze9wAAADlBnytFESwr/wAIsGaY29w7uOw9v2CEC7sX\n",
       "p2DoaTz+2/yPgBNKmKhHZdVHmH3axNfRLxs3h2riQ/AAAAAsAZ9MakK/AAiuwGgAx/dlyEs62yyz\n",
       "sC/pv0cYTIeb0BZ0XP2otNMaa3EBncEAAAB+QZtQSahBbJlMCFf//jhAAFRi+n8rYAJ27qxoOSyc\n",
       "4zovHbo7jNUi7LerGFeU/ngrhlK9qBf9lGQ3UmXOqDNOVTfm7EvDAuB+Oilw5lV/pcLBsxSsj1RW\n",
       "sexl32liPwozlrJhjOHUo+xXpid5MB3K0y6JGOV8XkcMtNutLh5LAAAATkGfbkUVLCv/AAiwZphz\n",
       "9gXtHIALRWqizO0YH2di2kWanYbowcw/XrK9zbNgsIoRpS0Us+FR8qK8gf2XwqwZurhgkXRrS91E\n",
       "+L55QVkPwQAAAFQBn49qQr8ACJKpJgn/zCjABOCuReoSl8c07QWAn/O4g7plFSs0Rr2OV7czMLix\n",
       "vLkZnmHv6Cfw/hI3aCyBr6mvnQ2XR0QUuIvjsT4ChGy+dHFD+OEAAAVabW9vdgAAAGxtdmhkAAAA\n",
       "AAAAAAAAAAAAAAAD6AAAB6gAAQAAAQAAAAAAAAAAAAAAAAEAAAAAAAAAAAAAAAAAAAABAAAAAAAA\n",
       "AAAAAAAAAABAAAAAAAAAAAAAAAAAAAAAAAAAAAAAAAAAAAAAAAAAAgAABIR0cmFrAAAAXHRraGQA\n",
       "AAADAAAAAAAAAAAAAAABAAAAAAAAB6gAAAAAAAAAAAAAAAAAAAAAAAEAAAAAAAAAAAAAAAAAAAAB\n",
       "AAAAAAAAAAAAAAAAAABAAAAAAbAAAAEgAAAAAAAkZWR0cwAAABxlbHN0AAAAAAAAAAEAAAeoAAAE\n",
       "AAABAAAAAAP8bWRpYQAAACBtZGhkAAAAAAAAAAAAAAAAAAAyAAAAYgBVxAAAAAAALWhkbHIAAAAA\n",
       "AAAAAHZpZGUAAAAAAAAAAAAAAABWaWRlb0hhbmRsZXIAAAADp21pbmYAAAAUdm1oZAAAAAEAAAAA\n",
       "AAAAAAAAACRkaW5mAAAAHGRyZWYAAAAAAAAAAQAAAAx1cmwgAAAAAQAAA2dzdGJsAAAAs3N0c2QA\n",
       "AAAAAAAAAQAAAKNhdmMxAAAAAAAAAAEAAAAAAAAAAAAAAAAAAAAAAbABIABIAAAASAAAAAAAAAAB\n",
       "AAAAAAAAAAAAAAAAAAAAAAAAAAAAAAAAAAAAAAAAAAAAGP//AAAAMWF2Y0MBZAAV/+EAGGdkABWs\n",
       "2UGwloQAAAMABAAAAwDIPFi2WAEABmjr48siwAAAABx1dWlka2hA8l8kT8W6OaUbzwMj8wAAAAAA\n",
       "AAAYc3R0cwAAAAAAAAABAAAAMQAAAgAAAAAUc3RzcwAAAAAAAAABAAAAAQAAAXhjdHRzAAAAAAAA\n",
       "AC0AAAABAAAEAAAAAAEAAAoAAAAAAQAABAAAAAABAAAAAAAAAAEAAAIAAAAAAQAACgAAAAABAAAE\n",
       "AAAAAAEAAAAAAAAAAQAAAgAAAAABAAAIAAAAAAIAAAIAAAAAAQAABAAAAAABAAAKAAAAAAEAAAQA\n",
       "AAAAAQAAAAAAAAABAAACAAAAAAEAAAQAAAAAAQAACgAAAAABAAAEAAAAAAEAAAAAAAAAAQAAAgAA\n",
       "AAABAAAKAAAAAAEAAAQAAAAAAQAAAAAAAAABAAACAAAAAAEAAAoAAAAAAQAABAAAAAABAAAAAAAA\n",
       "AAEAAAIAAAAAAQAACAAAAAACAAACAAAAAAEAAAoAAAAAAQAABAAAAAABAAAAAAAAAAEAAAIAAAAA\n",
       "AQAABgAAAAABAAACAAAAAAEAAAoAAAAAAQAABAAAAAABAAAAAAAAAAEAAAIAAAAAAQAACAAAAAAC\n",
       "AAACAAAAAAEAAAgAAAAAAgAAAgAAAAAcc3RzYwAAAAAAAAABAAAAAQAAADEAAAABAAAA2HN0c3oA\n",
       "AAAAAAAAAAAAADEAAAPPAAAAaAAAACwAAAAeAAAAHgAAAHUAAAAuAAAAJwAAACIAAABMAAAANAAA\n",
       "ACAAAABYAAAAUAAAADQAAAAkAAAALwAAAEcAAABjAAAAMAAAACsAAAAmAAAASwAAAD8AAAAyAAAA\n",
       "NwAAAGMAAABMAAAAMgAAAEUAAAA5AAAAPwAAACMAAAA+AAAANAAAABsAAAAoAAAARQAAACkAAABx\n",
       "AAAAQwAAADUAAABAAAAAcgAAAD0AAAAwAAAAggAAAFIAAABYAAAAFHN0Y28AAAAAAAAAAQAAACwA\n",
       "AABidWR0YQAAAFptZXRhAAAAAAAAACFoZGxyAAAAAAAAAABtZGlyYXBwbAAAAAAAAAAAAAAAAC1p\n",
       "bHN0AAAAJal0b28AAAAdZGF0YQAAAAEAAAAATGF2ZjU4LjIwLjEwMA==\n",
       "\">\n",
       "  Your browser does not support the video tag.\n",
       "</video>"
      ],
      "text/plain": [
       "<IPython.core.display.HTML object>"
      ]
     },
     "execution_count": 13,
     "metadata": {},
     "output_type": "execute_result"
    },
    {
     "data": {
      "image/png": "[encoded data removed]",
      "text/plain": [
       "<Figure size 432x288 with 1 Axes>"
      ]
     },
     "metadata": {
      "needs_background": "light"
     },
     "output_type": "display_data"
    }
   ],
   "source": [
    "HTML(plot_animation(frames).to_html5_video())"
   ]
  },
  {
   "cell_type": "markdown",
   "metadata": {},
   "source": [
    "### Simple strategy"
   ]
  },
  {
   "cell_type": "markdown",
   "metadata": {},
   "source": [
    "Let's hard code a simple strategy: if the pole is tilting to the left, then push the cart to the left, and _vice versa_. Let's see if that works.\n",
    "\n",
    "**Exercise** implement this policy and play 100 games with this policy. What are the means and std deviation of the reward sum over the 100 games?"
   ]
  },
  {
   "cell_type": "code",
   "execution_count": 14,
   "metadata": {},
   "outputs": [],
   "source": [
    "# %load solutions/exercise_1_2.py"
   ]
  },
  {
   "cell_type": "markdown",
   "metadata": {},
   "source": [
    "**Exercise** Vizualize a complete game:"
   ]
  },
  {
   "cell_type": "code",
   "execution_count": 15,
   "metadata": {},
   "outputs": [],
   "source": [
    "# %load solutions/exercise_1_3.py"
   ]
  },
  {
   "cell_type": "markdown",
   "metadata": {},
   "source": [
    "**Q** What can you say about this strategy?"
   ]
  },
  {
   "cell_type": "markdown",
   "metadata": {},
   "source": [
    "## Neural Network Policies"
   ]
  },
  {
   "cell_type": "markdown",
   "metadata": {},
   "source": [
    "Let's create a neural network to build a better policy. <br> \n",
    "Iwill take observations as inputs, and output the probability of the action to take for each observation. <br>\n",
    "In the case of the Cart-Pole environment, there are just two possible actions (left or right), so we only need one output neuron: it will output the probability `p` of the action 0 (left), and of course the probability of action 1 (right) will be `1 - p`."
   ]
  },
  {
   "cell_type": "markdown",
   "metadata": {},
   "source": [
    "### The architecture"
   ]
  },
  {
   "cell_type": "markdown",
   "metadata": {},
   "source": [
    "Because this problem is simple, we can define a very simple architecture for our neural network. Here it's simple MLP with 1 hidden layer and four neurons."
   ]
  },
  {
   "cell_type": "code",
   "execution_count": 16,
   "metadata": {},
   "outputs": [
    {
     "name": "stdout",
     "output_type": "stream",
     "text": [
      "Model: \"sequential\"\n",
      "_________________________________________________________________\n",
      "Layer (type)                 Output Shape              Param #   \n",
      "=================================================================\n",
      "dense (Dense)                (None, 4)                 20        \n",
      "_________________________________________________________________\n",
      "dense_1 (Dense)              (None, 1)                 5         \n",
      "=================================================================\n",
      "Total params: 25\n",
      "Trainable params: 25\n",
      "Non-trainable params: 0\n",
      "_________________________________________________________________\n"
     ]
    }
   ],
   "source": [
    "# Specify the network architecture\n",
    "n_inputs = 4  # == env.observation_space.shape[0]\n",
    "n_hidden = 4  # it's a simple task, we don't need more than this\n",
    "n_outputs = 1 # only outputs the probability of accelerating left\n",
    "initializer = ki.VarianceScaling()\n",
    "\n",
    "# Build the neural network\n",
    "policy_network=km.Sequential()\n",
    "policy_network.add(kl.Dense(n_hidden, input_shape = (n_inputs,), activation = \"relu\", kernel_initializer = initializer))\n",
    "policy_network.add(kl.Dense(n_outputs, activation = \"sigmoid\", kernel_initializer = initializer))\n",
    "\n",
    "policy_network.summary()"
   ]
  },
  {
   "cell_type": "markdown",
   "metadata": {},
   "source": [
    "### Predict the action\n",
    "We can now easly predict the probability one of the both action given the observation:"
   ]
  },
  {
   "cell_type": "code",
   "execution_count": 17,
   "metadata": {},
   "outputs": [],
   "source": [
    "obs = env.reset()\n",
    "p_left = policy_network.predict(np.expand_dims(obs,axis=0))\n",
    "# Choose and action according to the previously generated probability\n",
    "action = 0 if random.uniform(0,1)< p_left else 1 "
   ]
  },
  {
   "cell_type": "markdown",
   "metadata": {},
   "source": [
    "***NB*** : \n",
    "\n",
    "* In this particular environment, the past actions and observations can safely be ignored, since each observation contains the environment's full state. If there were some hidden state then you may need to consider past actions and observations in order to try to infer the hidden state of the environment. For example, if the environment only revealed the position of the cart but not its velocity, you would have to consider not only the current observation but also the previous observation in order to estimate the current velocity. Another example is if the observations are noisy: you may want to use the past few observations to estimate the most likely current state. Our problem is thus as simple as can be: the current observation is noise-free and contains the environment's full state.\n",
    "* You may wonder why we are picking a random action based on the probability given by the policy network, rather than just picking the action with the highest probability. This approach lets the agent find the right balance between _exploring_ new actions and _exploiting_ the actions that are known to work well. Here's an analogy: suppose you go to a restaurant for the first time, and all the dishes look equally appealing so you randomly pick one. If it turns out to be good, you can increase the probability to order it next time, but you shouldn't increase that probability to 100%, or else you will never try out the other dishes, some of which may be even better than the one you tried."
   ]
  },
  {
   "cell_type": "markdown",
   "metadata": {},
   "source": [
    "### Random neural network policy.\n",
    "Let's see how this neural network policy perform"
   ]
  },
  {
   "cell_type": "code",
   "execution_count": 18,
   "metadata": {},
   "outputs": [
    {
     "name": "stdout",
     "output_type": "stream",
     "text": [
      "Game played : 0. Reward for the last 10 episode: []\n",
      "Game played : 10. Reward for the last 10 episode: [38.0, 23.0, 18.0, 25.0, 20.0, 12.0, 16.0, 21.0, 15.0, 24.0]\n",
      "Game played : 20. Reward for the last 10 episode: [15.0, 16.0, 12.0, 10.0, 11.0, 47.0, 13.0, 16.0, 28.0, 11.0]\n",
      "Game played : 30. Reward for the last 10 episode: [12.0, 10.0, 12.0, 15.0, 34.0, 52.0, 17.0, 17.0, 11.0, 64.0]\n",
      "Game played : 40. Reward for the last 10 episode: [21.0, 19.0, 9.0, 25.0, 12.0, 52.0, 15.0, 13.0, 18.0, 12.0]\n",
      "Game played : 50. Reward for the last 10 episode: [28.0, 19.0, 19.0, 20.0, 10.0, 18.0, 11.0, 29.0, 11.0, 13.0]\n",
      "Game played : 60. Reward for the last 10 episode: [13.0, 26.0, 14.0, 14.0, 37.0, 14.0, 10.0, 23.0, 17.0, 21.0]\n",
      "Game played : 70. Reward for the last 10 episode: [30.0, 20.0, 17.0, 11.0, 22.0, 10.0, 12.0, 9.0, 12.0, 9.0]\n",
      "Game played : 80. Reward for the last 10 episode: [22.0, 9.0, 12.0, 13.0, 15.0, 12.0, 19.0, 16.0, 14.0, 29.0]\n",
      "Game played : 90. Reward for the last 10 episode: [16.0, 11.0, 11.0, 21.0, 42.0, 29.0, 14.0, 10.0, 11.0, 11.0]\n",
      "Over 100 episodes, mean reward: 19, std : 10\n"
     ]
    }
   ],
   "source": [
    "reward_sum = 0\n",
    "num_games = 100       \n",
    "num_game = 0\n",
    "all_reward_sum = []\n",
    "obs = env.reset()\n",
    "reward\n",
    "while num_game < num_games:\n",
    "    # hard-coded policy\n",
    "    p_left = policy_network.predict(np.expand_dims(obs,axis=0))\n",
    "    action = 0 if random.uniform(0,1)< p_left else 1 \n",
    "    obs, reward, done, info = env.step(action)\n",
    "    reward_sum += reward\n",
    "    if done:\n",
    "        if num_game %10 == 0:\n",
    "            print(\"Game played : %d. Reward for the last 10 episode: %s\" %(num_game,all_reward_sum[-10:]) )\n",
    "        all_reward_sum.append(reward_sum)\n",
    "        reward_sum = 0\n",
    "        num_game += 1\n",
    "        env.reset()\n",
    "print(\"Over %d episodes, mean reward: %d, std : %d\" %(num_games, np.mean(all_reward_sum), np.std(all_reward_sum)))"
   ]
  },
  {
   "cell_type": "markdown",
   "metadata": {},
   "source": [
    "Let's randomly initialize this policy neural network and use it to play one game:"
   ]
  },
  {
   "cell_type": "code",
   "execution_count": 19,
   "metadata": {},
   "outputs": [
    {
     "data": {
      "text/html": [
       "<video width=\"432\" height=\"288\" controls autoplay>\n",
       "  <source type=\"video/mp4\" src=\"data:video/mp4;base64,AAAAHGZ0eXBNNFYgAAACAGlzb21pc28yYXZjMQAAAAhmcmVlAAAHRW1kYXQAAAKgBgX//5zcRem9\n",
       "5tlIt5Ys2CDZI+7veDI2NCAtIGNvcmUgMTUyIC0gSC4yNjQvTVBFRy00IEFWQyBjb2RlYyAtIENv\n",
       "cHlsZWZ0IDIwMDMtMjAxNyAtIGh0dHA6Ly93d3cudmlkZW9sYW4ub3JnL3gyNjQuaHRtbCAtIG9w\n",
       "dGlvbnM6IGNhYmFjPTEgcmVmPTMgZGVibG9jaz0xOjA6MCBhbmFseXNlPTB4MzoweDExMyBtZT1o\n",
       "ZXggc3VibWU9NyBwc3k9MSBwc3lfcmQ9MS4wMDowLjAwIG1peGVkX3JlZj0xIG1lX3JhbmdlPTE2\n",
       "IGNocm9tYV9tZT0xIHRyZWxsaXM9MSA4eDhkY3Q9MSBjcW09MCBkZWFkem9uZT0yMSwxMSBmYXN0\n",
       "X3Bza2lwPTEgY2hyb21hX3FwX29mZnNldD0tMiB0aHJlYWRzPTkgbG9va2FoZWFkX3RocmVhZHM9\n",
       "MSBzbGljZWRfdGhyZWFkcz0wIG5yPTAgZGVjaW1hdGU9MSBpbnRlcmxhY2VkPTAgYmx1cmF5X2Nv\n",
       "bXBhdD0wIGNvbnN0cmFpbmVkX2ludHJhPTAgYmZyYW1lcz0zIGJfcHlyYW1pZD0yIGJfYWRhcHQ9\n",
       "MSBiX2JpYXM9MCBkaXJlY3Q9MSB3ZWlnaHRiPTEgb3Blbl9nb3A9MCB3ZWlnaHRwPTIga2V5aW50\n",
       "PTI1MCBrZXlpbnRfbWluPTI1IHNjZW5lY3V0PTQwIGludHJhX3JlZnJlc2g9MCByY19sb29rYWhl\n",
       "YWQ9NDAgcmM9Y3JmIG1idHJlZT0xIGNyZj0yMy4wIHFjb21wPTAuNjAgcXBtaW49MCBxcG1heD02\n",
       "OSBxcHN0ZXA9NCBpcF9yYXRpbz0xLjQwIGFxPTE6MS4wMACAAAAA92WIhAA7//73Tr8Cm0WXagOS\n",
       "Vwr2yqQmWblSawHypgAAAwAAEbBufJcNeavSJAAArYACODOPhbLXnI+25fgeAAidDrHbJ6hzjkkV\n",
       "L8TgDJGifVWpSq0o7zhIV9rZuAPmBDYatmmVvHl9kXoTrxVVuRtQojNnnSwKOPh9dwoe5V8Rl+HT\n",
       "CbUrEeu8YaV6FEQ3NDnegSsM6ucS0z5qljS3toFWFuieMgMzUCaTcLpqPP4mdAtTaQlF/Jk//nTX\n",
       "vjpfoTTsq/XxCWEsiG7cu14RNiCBXovc77dqYWmdqvnI38ihoIeZu8OvQiodkuHAXwvsc7YqwAAA\n",
       "gIEAAABtQZokbEN//qeEAAVCgfkIvWYqCXAFu0zletnNJUgoVdj6y7f+ITdKABZUXfA+nzsi5N5G\n",
       "uXJ7vDmPfXhKgaMI9Z39lHc01wIQt2sa1y3UnLcEFdsj71OZRCj+gWJwBtSWqhriE+TNB+xmoMxw\n",
       "wAAAABZBnkJ4hf8AAyKM+1mOD5sYNkBVifsxAAAAIAGeYXRCvwACHCKNLP1uSkXwUBuIef9ABuO7\n",
       "pCwS2C+2AAAAGwGeY2pCvwAENngrADc0y04B3tjGHNw8Fo3kwQAAAGVBmmhJqEFomUwIZ//+nhAA\n",
       "FQimwOAAcWX9TUoMbT9e/uF9Oy2XY6F8o7JZ5UydrmGNcsI1Hftjp3bxOowCXLya0tNcQjYy5ROR\n",
       "KKrCGlfUF3Tlpv4Uhls8/zt6IwD07W6w7YAMCQAAAClBnoZFESwv/wADOKZD1QKOPK+u86ZK/Nay\n",
       "LbLGGtkgAtpENg3Ddt7+MQAAAB4BnqV0Qr8AAhrokngWdr3c7umNAA6azFnP+PJBxNMAAAAkAZ6n\n",
       "akK/AARW04oUsdAgEMDnLf90ADq9BS6eYokvsLxnx6DAAAAASkGaqUmoQWyZTAhv//6nhAAFaQ8r\n",
       "DJACSgNRqcVXqwRe6+A6ClQxPM4L5Y1qiAfYWjGBrUjYG8fbaDl89muvvzGpCPZRKwOWmjuAAAAA\n",
       "gUGazUnhClJlMCF//oywABVCz5U1srAASQ1HiqlzIKW9gq5WAu9Xly4+gvfEX+vJBvzed7VR60yo\n",
       "AGbaLTg7Lb8feT9S9w0HBoDvv+Aqrkp/EFKxOXlu/hSbnivTmZvSGzKC4ByhLJm2W2CShM017NnH\n",
       "SE2J+xS/ycdbT+s4vmXvRwAAAFNBnutFNEwv/wADN1dPUk2GcWADbyw4bzsrUVdyciAKaTPvri63\n",
       "spr9AVJvU0hsOd91i6ycA6yG8gIAVYayuGbfROQvLJGVQzEOVyGMZpAHCqqjMwAAADkBnwp0Qr8A\n",
       "BEa22Gvu8AB7J3crzYc0GhY2sr6kRefz4QYjcmT7wDtPO+Aas7VZqZOyYfMGMpDwNygAAAAsAZ8M\n",
       "akK/AARS6GSIYbACV8LgJntuxIZdn0WV85bxT3PIj+CDNqgaPs6K25UAAABVQZsOSahBaJlMCFf/\n",
       "/jhAAFGSHQkNKpJTsIASJ11wUuc5ZZkng5Z9hLBrdR1ixnrPzaCxSFzwY+MT98pKKZ/1IKO5uYMf\n",
       "yCpiCIJqAu3iK9PAZCSpQQAAA+Jtb292AAAAbG12aGQAAAAAAAAAAAAAAAAAAAPoAAACWAABAAAB\n",
       "AAAAAAAAAAAAAAAAAQAAAAAAAAAAAAAAAAAAAAEAAAAAAAAAAAAAAAAAAEAAAAAAAAAAAAAAAAAA\n",
       "AAAAAAAAAAAAAAAAAAAAAAACAAADDHRyYWsAAABcdGtoZAAAAAMAAAAAAAAAAAAAAAEAAAAAAAAC\n",
       "WAAAAAAAAAAAAAAAAAAAAAAAAQAAAAAAAAAAAAAAAAAAAAEAAAAAAAAAAAAAAAAAAEAAAAABsAAA\n",
       "ASAAAAAAACRlZHRzAAAAHGVsc3QAAAAAAAAAAQAAAlgAAAQAAAEAAAAAAoRtZGlhAAAAIG1kaGQA\n",
       "AAAAAAAAAAAAAAAAADIAAAAeAFXEAAAAAAAtaGRscgAAAAAAAAAAdmlkZQAAAAAAAAAAAAAAAFZp\n",
       "ZGVvSGFuZGxlcgAAAAIvbWluZgAAABR2bWhkAAAAAQAAAAAAAAAAAAAAJGRpbmYAAAAcZHJlZgAA\n",
       "AAAAAAABAAAADHVybCAAAAABAAAB73N0YmwAAACzc3RzZAAAAAAAAAABAAAAo2F2YzEAAAAAAAAA\n",
       "AQAAAAAAAAAAAAAAAAAAAAABsAEgAEgAAABIAAAAAAAAAAEAAAAAAAAAAAAAAAAAAAAAAAAAAAAA\n",
       "AAAAAAAAAAAAAAAY//8AAAAxYXZjQwFkABX/4QAYZ2QAFazZQbCWhAAAAwAEAAADAMg8WLZYAQAG\n",
       "aOvjyyLAAAAAHHV1aWRraEDyXyRPxbo5pRvPAyPzAAAAAAAAABhzdHRzAAAAAAAAAAEAAAAPAAAC\n",
       "AAAAABRzdHNzAAAAAAAAAAEAAAABAAAAiGN0dHMAAAAAAAAADwAAAAEAAAQAAAAAAQAACgAAAAAB\n",
       "AAAEAAAAAAEAAAAAAAAAAQAAAgAAAAABAAAKAAAAAAEAAAQAAAAAAQAAAAAAAAABAAACAAAAAAEA\n",
       "AAQAAAAAAQAACgAAAAABAAAEAAAAAAEAAAAAAAAAAQAAAgAAAAABAAAEAAAAABxzdHNjAAAAAAAA\n",
       "AAEAAAABAAAADwAAAAEAAABQc3RzegAAAAAAAAAAAAAADwAAA58AAABxAAAAGgAAACQAAAAfAAAA\n",
       "aQAAAC0AAAAiAAAAKAAAAE4AAACFAAAAVwAAAD0AAAAwAAAAWQAAABRzdGNvAAAAAAAAAAEAAAAs\n",
       "AAAAYnVkdGEAAABabWV0YQAAAAAAAAAhaGRscgAAAAAAAAAAbWRpcmFwcGwAAAAAAAAAAAAAAAAt\n",
       "aWxzdAAAACWpdG9vAAAAHWRhdGEAAAABAAAAAExhdmY1OC4yMC4xMDA=\n",
       "\">\n",
       "  Your browser does not support the video tag.\n",
       "</video>"
      ],
      "text/plain": [
       "<IPython.core.display.HTML object>"
      ]
     },
     "execution_count": 19,
     "metadata": {},
     "output_type": "execute_result"
    },
    {
     "data": {
      "image/png": "[encoded data removed]",
      "text/plain": [
       "<Figure size 432x288 with 1 Axes>"
      ]
     },
     "metadata": {
      "needs_background": "light"
     },
     "output_type": "display_data"
    }
   ],
   "source": [
    "frames = []\n",
    "\n",
    "env.reset()    \n",
    "observation, reward, done, _ = env.step(env.action_space.sample())\n",
    "reward_sum = 0        \n",
    "while not(done):\n",
    "    img = env.render(mode = \"rgb_array\")\n",
    "    env.close()\n",
    "    frames.append(img)\n",
    "    reward_sum += reward\n",
    "    p_left = policy_network.predict(np.expand_dims(observation,axis=0))\n",
    "    action = 0 if random.uniform(0,1)< p_left else 1 \n",
    "    observation, reward, done, _ = env.step(action)\n",
    "plt.close()\n",
    "HTML(plot_animation(frames).to_html5_video())"
   ]
  },
  {
   "cell_type": "markdown",
   "metadata": {},
   "source": [
    "The neural network is working. But it's still acting randomly. Let's try to make it learn better policy."
   ]
  },
  {
   "cell_type": "markdown",
   "metadata": {},
   "source": [
    "### Learn a given policy\n",
    "\n",
    "In this part we will train the neural network in order that it learns the simple strategy we hard coded before : if the pole is tilting to the left, then push the cart to the left, and _vice versa_.\n",
    "\n",
    "We start by defining the neural network policy with the same architecture than before. <br>\n",
    "This time we compile this network in order to learn the wanted behaviour"
   ]
  },
  {
   "cell_type": "code",
   "execution_count": 20,
   "metadata": {},
   "outputs": [],
   "source": [
    "policy_network=km.Sequential()\n",
    "policy_network.add(kl.Dense(n_hidden, input_shape = (n_inputs,), activation = \"relu\", kernel_initializer = initializer))\n",
    "policy_network.add(kl.Dense(n_outputs, activation = \"sigmoid\", kernel_initializer = initializer))\n",
    "\n",
    "# apprentissage\n",
    "learning_rate = 0.01\n",
    "adam = ko.Adam(lr = learning_rate)\n",
    "policy_network.compile(loss='binary_crossentropy',optimizer=ko.Adam(lr = learning_rate),metrics=['accuracy'])\n"
   ]
  },
  {
   "cell_type": "markdown",
   "metadata": {},
   "source": [
    "In order to learn this policy we will first define 10 environment that we will play in parallel at each iterations"
   ]
  },
  {
   "cell_type": "code",
   "execution_count": 21,
   "metadata": {},
   "outputs": [],
   "source": [
    "n_environments = 10\n",
    "\n",
    "envs = [gym.make(\"CartPole-v0\") for _ in range(n_environments)]\n",
    "observations = np.array([env.reset() for env in envs])"
   ]
  },
  {
   "cell_type": "markdown",
   "metadata": {},
   "source": [
    "At each iteration we will :\n",
    "\n",
    "* Train the network over the ten observation we have, where these observation will be the input, and the target will be the expected behaviour.\n",
    "* Predict the action according to the neural network policy."
   ]
  },
  {
   "cell_type": "code",
   "execution_count": 22,
   "metadata": {},
   "outputs": [],
   "source": [
    "n_iterations = 2000\n",
    "for iteration in range(n_iterations):\n",
    "    target_probas = np.array([(1 if obs[2] < 0 else 0) for obs in observations]) # if angle<0 we want proba(left)=1., or else proba(left)=0.\n",
    "    policy_network.train_on_batch(observations, target_probas)  # one batch iteration\n",
    "    \n",
    "    # Generate probablity and observation on ntext step\n",
    "    p_lefts = policy_network.predict(observations)\n",
    "    actions = [0 if random.uniform(0,1)< p_left else 1 for p_left in p_lefts]\n",
    "    \n",
    "    # Compute next state\n",
    "    for env_index, env in enumerate(envs):\n",
    "        obs, reward, done, info = env.step(actions[env_index])\n",
    "        observations[env_index] = obs if not done else env.reset()\n",
    "\n",
    "for env in envs:\n",
    "    env.close()"
   ]
  },
  {
   "cell_type": "code",
   "execution_count": 23,
   "metadata": {},
   "outputs": [
    {
     "name": "stdout",
     "output_type": "stream",
     "text": [
      "Game played : 0. Reward for the last 10 episode: []\n",
      "Game played : 10. Reward for the last 10 episode: [36.0, 38.0, 64.0, 40.0, 51.0, 27.0, 41.0, 55.0, 42.0, 25.0]\n",
      "Game played : 20. Reward for the last 10 episode: [52.0, 52.0, 34.0, 47.0, 27.0, 36.0, 43.0, 42.0, 49.0, 21.0]\n",
      "Game played : 30. Reward for the last 10 episode: [27.0, 51.0, 65.0, 24.0, 21.0, 27.0, 37.0, 35.0, 50.0, 37.0]\n",
      "Game played : 40. Reward for the last 10 episode: [49.0, 53.0, 24.0, 36.0, 49.0, 41.0, 47.0, 69.0, 47.0, 33.0]\n",
      "Game played : 50. Reward for the last 10 episode: [28.0, 29.0, 47.0, 28.0, 24.0, 49.0, 46.0, 32.0, 26.0, 26.0]\n",
      "Game played : 60. Reward for the last 10 episode: [27.0, 41.0, 27.0, 28.0, 25.0, 16.0, 42.0, 45.0, 34.0, 43.0]\n",
      "Game played : 70. Reward for the last 10 episode: [30.0, 57.0, 29.0, 56.0, 24.0, 51.0, 47.0, 30.0, 42.0, 40.0]\n",
      "Game played : 80. Reward for the last 10 episode: [40.0, 35.0, 38.0, 38.0, 59.0, 50.0, 60.0, 43.0, 37.0, 28.0]\n",
      "Game played : 90. Reward for the last 10 episode: [32.0, 43.0, 36.0, 40.0, 49.0, 37.0, 42.0, 76.0, 43.0, 36.0]\n",
      "Over 100 episodes, mean reward: 39, std : 11\n"
     ]
    }
   ],
   "source": [
    "reward_sum = 0\n",
    "num_games = 100       \n",
    "num_game = 0\n",
    "all_reward_sum = []\n",
    "obs = env.reset()\n",
    "reward\n",
    "while num_game < num_games:\n",
    "    # hard-coded policy\n",
    "    p_left = policy_network.predict(np.expand_dims(obs,axis=0))\n",
    "    action = 0 if random.uniform(0,1)< p_left else 1 \n",
    "    obs, reward, done, info = env.step(action)\n",
    "    reward_sum += reward\n",
    "    if done:\n",
    "        if num_game %10 == 0:\n",
    "            print(\"Game played : %d. Reward for the last 10 episode: %s\" %(num_game,all_reward_sum[-10:]) )\n",
    "        all_reward_sum.append(reward_sum)\n",
    "        reward_sum = 0\n",
    "        num_game += 1\n",
    "        env.reset()\n",
    "print(\"Over %d episodes, mean reward: %d, std : %d\" %(num_games, np.mean(all_reward_sum), np.std(all_reward_sum)))"
   ]
  },
  {
   "cell_type": "code",
   "execution_count": 24,
   "metadata": {},
   "outputs": [
    {
     "data": {
      "text/html": [
       "<video width=\"432\" height=\"288\" controls autoplay>\n",
       "  <source type=\"video/mp4\" src=\"data:video/mp4;base64,AAAAHGZ0eXBNNFYgAAACAGlzb21pc28yYXZjMQAAAAhmcmVlAAARaG1kYXQAAAKgBgX//5zcRem9\n",
       "5tlIt5Ys2CDZI+7veDI2NCAtIGNvcmUgMTUyIC0gSC4yNjQvTVBFRy00IEFWQyBjb2RlYyAtIENv\n",
       "cHlsZWZ0IDIwMDMtMjAxNyAtIGh0dHA6Ly93d3cudmlkZW9sYW4ub3JnL3gyNjQuaHRtbCAtIG9w\n",
       "dGlvbnM6IGNhYmFjPTEgcmVmPTMgZGVibG9jaz0xOjA6MCBhbmFseXNlPTB4MzoweDExMyBtZT1o\n",
       "ZXggc3VibWU9NyBwc3k9MSBwc3lfcmQ9MS4wMDowLjAwIG1peGVkX3JlZj0xIG1lX3JhbmdlPTE2\n",
       "IGNocm9tYV9tZT0xIHRyZWxsaXM9MSA4eDhkY3Q9MSBjcW09MCBkZWFkem9uZT0yMSwxMSBmYXN0\n",
       "X3Bza2lwPTEgY2hyb21hX3FwX29mZnNldD0tMiB0aHJlYWRzPTkgbG9va2FoZWFkX3RocmVhZHM9\n",
       "MSBzbGljZWRfdGhyZWFkcz0wIG5yPTAgZGVjaW1hdGU9MSBpbnRlcmxhY2VkPTAgYmx1cmF5X2Nv\n",
       "bXBhdD0wIGNvbnN0cmFpbmVkX2ludHJhPTAgYmZyYW1lcz0zIGJfcHlyYW1pZD0yIGJfYWRhcHQ9\n",
       "MSBiX2JpYXM9MCBkaXJlY3Q9MSB3ZWlnaHRiPTEgb3Blbl9nb3A9MCB3ZWlnaHRwPTIga2V5aW50\n",
       "PTI1MCBrZXlpbnRfbWluPTI1IHNjZW5lY3V0PTQwIGludHJhX3JlZnJlc2g9MCByY19sb29rYWhl\n",
       "YWQ9NDAgcmM9Y3JmIG1idHJlZT0xIGNyZj0yMy4wIHFjb21wPTAuNjAgcXBtaW49MCBxcG1heD02\n",
       "OSBxcHN0ZXA9NCBpcF9yYXRpbz0xLjQwIGFxPTE6MS4wMACAAAAA+GWIhAA3//728P4FNjuY0JcR\n",
       "zeidMx+/Fbi6NDe9zgAAAwAAN9zmRP7KkwbmwAAC4AAJ4RFNXc1Xlml+8+uzAJOK4cCo57rduj9b\n",
       "sV0qUfUJOSQnt+P/Y80zOL//VLV17qnjCqXPTfk8AFQ8BCqSyNcoK1WDrjfkT7ZAj6XH5l9W3onu\n",
       "iE3jU6/GGB7uaYlfKSg3zCYpEEeUUBi2pSJEqFpDchkaEPPouDH1JaDSaZmVTU9Pv+fWzUeXOCb3\n",
       "sX1Oz3lV8rH9fYyzaF1x5oTc5Ryap0PanG2RQdn2OFxRb3o+9Q+xCvjJXF+CuV2DoUo5t84uifAA\n",
       "ABYxAAAASEGaIWxDv/6plgABXDJT5YlUiOUdsAcyuJUyr3I+Lj/5J/x4evs6NFKe2z4/Azko7vSd\n",
       "qt+3isbjFfmCC0aKv2NtYe8bPBzwBAAAAGJBmkU8IZMphDv//qmWAAK4xk5kARmHX84DDPIoqaho\n",
       "FgNI9JPtoKHyaWssg2Sgtch4i9rN2fU+1et4GWs4psIbV1Ujisfh/3o+c+aoDbVyyVX/vilyNGsP\n",
       "t1Iwu5AA3hhmgQAAADhBnmNqU8L/AAM4GidiRyarWgbpSR4AQp6BHa53/cKnx/a7pKNYzpeCE+6U\n",
       "MAKP8zNFv11W1b2lWAAAACABnoJ0Qr8ABFXQKdH3l6koCd+LPIEAHDCDkM/njEKyQwAAACEBnoRq\n",
       "Qr8AAhuwGdfb3N9SDONoAHPZx4bn5a76x6/SSxkAAAA5QZqJSahBaJlMCHf//qmWAAFd9w9tNo18\n",
       "apGwdXYJZNyVmYIV0Yp4YUJeCn1KR66HXUUYfWL8N2oLAAAAK0Gep0URLC//AAGbH1H13VKPSADY\n",
       "BUmQ4C4mbtMTS7k9qM/RttX07ABUj1EAAAAXAZ7GdEK/AAIrE5u0mnMWvl6tbDWLPkgAAAAtAZ7I\n",
       "akK/AAIpc13sjDIQ/tXuSADnDuT11eCJPumcAoOL/wI/9JJTlemYyrSwAAAAb0GazUmoQWyZTAhv\n",
       "//6nhAAFaMDzPgBFmtVhArwOH0q4NrU0z7BZ/e/YEnxV3XZE0fntt9/+mYUPsaUTuotgb4sJLNbE\n",
       "ePae0Q52ICZ71RUVxFAh5x8/IfIyrMyHoz8B1YDdpFmYb4nXAyoB+hQLEQAAAChBnutFFSwv/wAD\n",
       "NqSJFuBKkNkj334FN1mQmgAOsGpK12QyphmSCEIBAAAAJQGfCnRCvwAEViJejkMocvyT6zKADlMd\n",
       "JmeTU+cxhNafV8MyVIAAAAAeAZ8MakK/AARUgXnOabnaOe3rKd+U2drHaeT8ACbLAAAAPUGbD0mo\n",
       "QWyZTBRMN//+p4QABWPR9np5GETPPVGQXr1Q7+DxoyZpa3FwBy+GpFG4rL3fCgOlQHu9odu2+2EA\n",
       "AAAYAZ8uakK/AARXqpAjV8Sol8aiCseQyDWBAAAAOkGbMUnhClJlMFLDf/6nhAAFZl3tKw8WiYUZ\n",
       "T0D5RXqe+c0a7+s4Ai0FlKB1B1ZvoWEJk9Fe6/qw+3AAAAAqAZ9QakK/AARTqjiZPf5EKd9k/yn0\n",
       "0C89mdfacOXeCFEAHDj0EVnfZPOwAAAAK0GbUknhDomUwId//qmWAACt7/hAw91iHK4e7A413GK8\n",
       "EouZMsUML/3wRHEAAACZQZt2SeEPJlMCHf/+qZYAArdEGQmXUWmpwA2shmBWW91GKQtRT96SmJOW\n",
       "l9a8F9WvFrUW0ckoOymHv6t7uERmNBsqEcOo2QKe3cwGfHmCjGDu3U9AI2Myprsccnti4NmF8Zg3\n",
       "obT24tVLuAs9JYn96HqP2eq72F2yvSdo0jYHGX1lSotrV140K0CNy4GQgFCXINqKUo16kt/4AAAA\n",
       "L0GflEURPC//AAM4YlXje8CNdw64GWglF9KsMyDsDvpKdAwAENmAesNbCOcYmprsAAAAJgGfs3RC\n",
       "vwAEV8R4B1B91J8xzad14AHaCsXioPxhV1RvlKNlEEVBAAAAMAGftWpCvwAEVt4JBwAmWtN+hb7L\n",
       "gGeo3e4uxinvdbIia7fvVTEJrZ+V1FB0ILds7AAAAD5Bm7lJqEFomUwId//+qZYAArdF009v2zAC\n",
       "3m+UcKT5uy228bq5JyOKzy2WZsoF9XvEggaqj5cG5Td5p3cpcQAAADZBn9dFESwr/wAEUuhU8T6i\n",
       "mgBam4vqRXZj0XhsXfR/jXGln8D0bFejxyLa0MzfTfxkDsB9/hMAAAAVAZ/4akK/AARXX84reL7R\n",
       "ZvZMR15AAAAAREGb/UmoQWyZTAhv//6nhAAFamxXelX5ka6og2G3jqztRg/DF8jtbeL35oyfJ8R7\n",
       "EfWngniM1BKpDeaxXsDSG5h/n1sFAAAAM0GeG0UVLC//AAM3YBBWCMdgC7s/Gac/3b6o0/BNLgAF\n",
       "9MIGwJKPxhXg8Dp8rjCZkzSNTAAAADYBnjp0Qr8ABEYo13myHkMFyHRAwAudzeth/ZLgA5wVetpn\n",
       "Xns6Ud6Kp+ejOTv64kliGr+iamEAAAAvAZ48akK/AARGQYdkB5HyjCPajHqRV8AD4LyCVMRqS+XW\n",
       "aaDshbsfUCcoE4QvUy0AAACWQZogSahBbJlMCG///qeEAAVowb9sAAgBGKAzk6KPGai0StjSdt62\n",
       "a5tDQ/zWdDXnG7/nZYnICEjI98UG49jFY9P22SnZJa1vUVoNhJlHGzuFNBGBtPl6jYzPS6pfgae3\n",
       "A1fY0xm6CoYIdYvNnzpDTt+vlL2g1IVU+2srtt1xND9AKklN7I5seRAi5q/6FnnwJ8f7RgKAAAAA\n",
       "LUGeXkUVLCv/AARXpYnB0zvjj0+tN75J0s9SghbCMZkU+sAIFoSqsKEkgcA/OwAAADIBnn9qQr8A\n",
       "BFddy8r72QIOIpG3NAB8GFN3R3PcDMDmhj3sQr8RlOnN3xEtCoqgox8YoQAAAIBBmmFJqEFsmUwI\n",
       "d//+qZYAArdaeCfn0HwADiPc1t9v05gJjoj/YZOVWArvhHdavX+vCNVgZQgz7AANi65AF8KcfksF\n",
       "g3+RqmIxUMy56IFepkBv/JJWFAIQhjt7ywHPznPNTZ0/xSXKyIkHEx7DB5rmywMtiL7gKfa4RTaR\n",
       "24uObwAAAIxBmoVJ4QpSZTAhv/6nhAAFYjzPrHSqRQegBwhl22Y2UzV0v1+905C7WRZmTwDRgklf\n",
       "5fPwPIpiBvX4ldykxeHgvJbW0VSn6+Qkrfbptyo+OzDndcJS17/AuRSkwzc4lbQyWu/oZgnpdT4N\n",
       "gBca2Oqh2v84rY+E7LyFAao4s2GfL6Nab5Z7O7BxGmXDQQAAAEBBnqNFNEwv/wADNubAudACPJ0a\n",
       "2OENMclPs4jfPlvdUOgdks3QVOBlPLmSLmB/qVGPlIFI+/mUAeV0pVOz1ihAAAAANAGewnRCvwAI\n",
       "r4e8RbqQ48YD4JlOexkdWSC/+A2CdyADZLtF2aBgELA4MpGaouliJEmQktEAAAAuAZ7EakK/AAis\n",
       "kLDMVhQFdQpFKlD4m6KAB2grEQjlIICAzl10+mqs9chwCt9TgQAAAHNBmslJqEFomUwIb//+p4QA\n",
       "BWiejMIpACSZQACohTkIM1iOmhl7EU8fKrfS+asIH/wjBPiyto7ajL8Rr5JmCcwRrg58W4UjX6Fb\n",
       "kDxFIyGFUSmzD9RQdzjF9wXzYmqXLokfH5mOhvegv3mQYDyFl7QiacqBAAAAL0Ge50URLC//AAMz\n",
       "vsp0EnQEBQsjJbjlvhfW5ZRJYJABw7sCmvr6Litj2FaOJo1hAAAAHAGfBnRCvwAENdD3OVao+8ni\n",
       "UNAAzqMlgB6rW6AAAAAvAZ8IakK/AARS6QN4HDU5/tz9fB/pABzWadxdkaMXCGEpnEUJ9E6QYIMp\n",
       "l6Nkhh0AAABgQZsKSahBbJlMCG///qeEAAVpHDkMkAJIwfGlItAYwI+hHJxTJ8oeHniZ4Zy0KEJd\n",
       "0iqq9c6rhzr0lgPHDvJthc3bGI8gGk520XjPcfTmDpe5xlcJLlKdNVInk1g0xIbpAAAAY0GbLknh\n",
       "ClJlMCGf/p4QABT3Xf/SUwgAHG9dxDvTpZhHidLByDaUkj3UmlcJP5VSudI2uJ4USV5DKrIHTQ/B\n",
       "O4btRUBc2pHCrODabglnROXArimCfR9Z8P1fe8mcB5l/5a7xWAAAAElBn0xFNEwv/wADN2BufcRQ\n",
       "AtEau2yRZzEjkgTV0CAqC5KWx6K1raMcAjHOqj0rMv1qp6hnX7cm4Cat6nHWyE5muky5fkYSpc2w\n",
       "AAAANwGfa3RCvwAIrZ3xeCbTBAA/BD2m+/S34k3f1orQaY67PRI46jJTvXlm7A3cDxSIV3R2VMPm\n",
       "MpEAAAA+AZ9takK/AAiskLDMVgjjp/XCm1yAB+JKYPpW3qgK8RvTjY2DXafvYobZ/+odT6SHPrMT\n",
       "P0a6j+Qwb1qA+c0AAABjQZtvSahBaJlMCGf//p4QABT+ANESCYUYTIAV7Af5lRr0dT+6Ut//35yC\n",
       "Hrj8bYYNs08QhYg6aLHmJe2TYcqsBooAr62AfQlrgIiVj5vra5dzNVuwFNU+kd08p/BhkQ0JWdBR\n",
       "AAAAhUGbkUnhClJlMFESwz/+nhAAFP4KZuvgBJHZv7RHLYVu9/9ffXNmbc6nxy11htLQ+2WDDVhE\n",
       "hsh5COfsEqLCs7s8VO2mTencsPinQ/oNuQYomF/gHgzjMKh9jm6x5jC+pzsFkIHZ4205PLWf44xA\n",
       "BNg36nxpIa2X8uY6q9p2oBArsBEkgmwAAAA7AZ+wakK/AARUfu514AD+HpzlIB9AHrEWOqCS6ya4\n",
       "S45SACg12IYwqpq/eZ87A5H+zhY8ud8w6CPfdAIAAABsQZuzSeEOiZTBRMK//jhAAFGRg0FyAiAC\n",
       "ca2LjiKCbR5D0Zk43UiXY/POQuFLh8ciuNel9XIp8YCcsGnEa0pEkEqL0JQCoJd+YIRCGGgrodQf\n",
       "uazhAPiKx90OggMdUk3l31sfeWfiE7IKrWu9AAAASAGf0mpCvwAEWuwwAS20A06gH1TdjbJvVJiF\n",
       "NdEIc6+r/tAWezT+FMpHuXc91Xfy8PoLBWZTgAIwuSKiiNnIFH78DK+yvxUqwAAABYZtb292AAAA\n",
       "bG12aGQAAAAAAAAAAAAAAAAAAAPoAAAIIAABAAABAAAAAAAAAAAAAAAAAQAAAAAAAAAAAAAAAAAA\n",
       "AAEAAAAAAAAAAAAAAAAAAEAAAAAAAAAAAAAAAAAAAAAAAAAAAAAAAAAAAAAAAAACAAAEsHRyYWsA\n",
       "AABcdGtoZAAAAAMAAAAAAAAAAAAAAAEAAAAAAAAIIAAAAAAAAAAAAAAAAAAAAAAAAQAAAAAAAAAA\n",
       "AAAAAAAAAAEAAAAAAAAAAAAAAAAAAEAAAAABsAAAASAAAAAAACRlZHRzAAAAHGVsc3QAAAAAAAAA\n",
       "AQAACCAAAAQAAAEAAAAABChtZGlhAAAAIG1kaGQAAAAAAAAAAAAAAAAAADIAAABoAFXEAAAAAAAt\n",
       "aGRscgAAAAAAAAAAdmlkZQAAAAAAAAAAAAAAAFZpZGVvSGFuZGxlcgAAAAPTbWluZgAAABR2bWhk\n",
       "AAAAAQAAAAAAAAAAAAAAJGRpbmYAAAAcZHJlZgAAAAAAAAABAAAADHVybCAAAAABAAADk3N0YmwA\n",
       "AACzc3RzZAAAAAAAAAABAAAAo2F2YzEAAAAAAAAAAQAAAAAAAAAAAAAAAAAAAAABsAEgAEgAAABI\n",
       "AAAAAAAAAAEAAAAAAAAAAAAAAAAAAAAAAAAAAAAAAAAAAAAAAAAAAAAY//8AAAAxYXZjQwFkABX/\n",
       "4QAYZ2QAFazZQbCWhAAAAwAEAAADAMg8WLZYAQAGaOvjyyLAAAAAHHV1aWRraEDyXyRPxbo5pRvP\n",
       "AyPzAAAAAAAAABhzdHRzAAAAAAAAAAEAAAA0AAACAAAAABRzdHNzAAAAAAAAAAEAAAABAAABmGN0\n",
       "dHMAAAAAAAAAMQAAAAIAAAQAAAAAAQAACgAAAAABAAAEAAAAAAEAAAAAAAAAAQAAAgAAAAABAAAK\n",
       "AAAAAAEAAAQAAAAAAQAAAAAAAAABAAACAAAAAAEAAAoAAAAAAQAABAAAAAABAAAAAAAAAAEAAAIA\n",
       "AAAAAQAABgAAAAABAAACAAAAAAEAAAYAAAAAAQAAAgAAAAABAAAEAAAAAAEAAAoAAAAAAQAABAAA\n",
       "AAABAAAAAAAAAAEAAAIAAAAAAQAACAAAAAACAAACAAAAAAEAAAoAAAAAAQAABAAAAAABAAAAAAAA\n",
       "AAEAAAIAAAAAAQAACAAAAAACAAACAAAAAAEAAAQAAAAAAQAACgAAAAABAAAEAAAAAAEAAAAAAAAA\n",
       "AQAAAgAAAAABAAAKAAAAAAEAAAQAAAAAAQAAAAAAAAABAAACAAAAAAEAAAQAAAAAAQAACgAAAAAB\n",
       "AAAEAAAAAAEAAAAAAAAAAQAAAgAAAAABAAAEAAAAAAEAAAYAAAAAAQAAAgAAAAABAAAGAAAAAAEA\n",
       "AAIAAAAAHHN0c2MAAAAAAAAAAQAAAAEAAAA0AAAAAQAAAORzdHN6AAAAAAAAAAAAAAA0AAADoAAA\n",
       "AEwAAABmAAAAPAAAACQAAAAlAAAAPQAAAC8AAAAbAAAAMQAAAHMAAAAsAAAAKQAAACIAAABBAAAA\n",
       "HAAAAD4AAAAuAAAALwAAAJ0AAAAzAAAAKgAAADQAAABCAAAAOgAAABkAAABIAAAANwAAADoAAAAz\n",
       "AAAAmgAAADEAAAA2AAAAhAAAAJAAAABEAAAAOAAAADIAAAB3AAAAMwAAACAAAAAzAAAAZAAAAGcA\n",
       "AABNAAAAOwAAAEIAAABnAAAAiQAAAD8AAABwAAAATAAAABRzdGNvAAAAAAAAAAEAAAAsAAAAYnVk\n",
       "dGEAAABabWV0YQAAAAAAAAAhaGRscgAAAAAAAAAAbWRpcmFwcGwAAAAAAAAAAAAAAAAtaWxzdAAA\n",
       "ACWpdG9vAAAAHWRhdGEAAAABAAAAAExhdmY1OC4yMC4xMDA=\n",
       "\">\n",
       "  Your browser does not support the video tag.\n",
       "</video>"
      ],
      "text/plain": [
       "<IPython.core.display.HTML object>"
      ]
     },
     "execution_count": 24,
     "metadata": {},
     "output_type": "execute_result"
    },
    {
     "data": {
      "image/png": "[encoded data removed]",
      "text/plain": [
       "<Figure size 432x288 with 1 Axes>"
      ]
     },
     "metadata": {
      "needs_background": "light"
     },
     "output_type": "display_data"
    }
   ],
   "source": [
    "frames = []\n",
    "\n",
    "env.reset()    \n",
    "observation, reward, done, _ = env.step(env.action_space.sample())\n",
    "reward_sum = 0        \n",
    "while not(done):\n",
    "    img = env.render(mode = \"rgb_array\")\n",
    "    env.close()\n",
    "    frames.append(img)\n",
    "    reward_sum += reward\n",
    "    p_left = policy_network.predict(np.expand_dims(observation,axis=0))\n",
    "    action = 0 if random.uniform(0,1)< p_left else 1 \n",
    "    observation, reward, done, _ = env.step(action)\n",
    "plt.close()\n",
    "HTML(plot_animation(frames).to_html5_video())"
   ]
  },
  {
   "cell_type": "markdown",
   "metadata": {},
   "source": [
    "Looks like it learned the policy correctly! <br>\n",
    "\n",
    "Let's now reach our final target : The neural network has to find a better policy by its own."
   ]
  },
  {
   "cell_type": "markdown",
   "metadata": {},
   "source": [
    "## Policy Gradients"
   ]
  },
  {
   "cell_type": "markdown",
   "metadata": {},
   "source": [
    "The idea behind *Policy Gradients* its quite simple : The _Policy Gradients_ algorithm tackles this problem by first playing multiple games, then making the actions in good games slightly more likely, while actions in bad games are made slightly less likely. First we play, then we go back and think about what we did.\n",
    "\n",
    "### Algorithm\n",
    "\n",
    "* Run an episode untill it's done and save at each iteration the observation, action and reward.\n",
    "* When an episode it's done. Compute the discounted rewards for all the episode, and save it.\n",
    "* If you have done *batch_size=50* episodes train your model on this batch.\n",
    "* Stop if you have reach *num episodes* or *goal* target."
   ]
  },
  {
   "cell_type": "markdown",
   "metadata": {},
   "source": [
    "\n",
    "### Parameters\n",
    "\n",
    "| Variable  | Value  | Description  | \n",
    "|---|---|---|\n",
    "|Gamma   | 0.99  | The discounted rate apply for the discounted reward  |\n",
    "|batch_size  | 50   | Number of episode to run before training model on a batch of episode  |\n",
    "| Num episodes | 10.000   | Maximum number of episode to run before stopping the training  | \n",
    "| goal | 190  | Number of step to achieve on one episode to stop the training.  |\n",
    "\n",
    "Those parameters are fixed for this TP, they are common value for this kind of problem based on experiences. They are not definitive nor results or any research."
   ]
  },
  {
   "cell_type": "markdown",
   "metadata": {},
   "source": [
    "### Discounted rewards\n"
   ]
  },
  {
   "cell_type": "markdown",
   "metadata": {},
   "source": [
    "To train this neural network we will then used the observation of the experiences as an inputs and the actions taken as an output.\n",
    "\n",
    "But how do we provide to the neural network the information the choosen actions  was good or bad?\n",
    "The problem is that most actions have delayed effects, so when you win or lose points in a game, it is not clear which actions contributed to this result: was it just the last action? Or the last 10? Or just one action 50 steps earlier? <br>\n",
    "This is called the _credit assignment problem_.\n",
    "\n",
    "\n",
    "To tackle this problem, a common strategy is to evaluate an action based on the sum of all the rewards that come after it, usually applying a discount rate r at each step. \n",
    "This rate will the be applied to the loss function of the neural network :\n",
    "* A high discounted reward will lead to higher gradient which will increase the importance of this action\n",
    "* A low  discounted reward will lead to lower gradient which will decrease the importance of this action\n",
    " \n",
    "\n",
    "**Exercise** : Implement the discount_rewards function."
   ]
  },
  {
   "cell_type": "code",
   "execution_count": 25,
   "metadata": {},
   "outputs": [],
   "source": [
    "def discount_rewards(r, gamma=0.99):\n",
    "    \"\"\"Takes 1d float array of rewards and computes discounted reward\n",
    "    e.g. f([1, 1, 1], 0.99) -> [2.9701, 1.99, 1]\n",
    "    \"\"\"\n",
    "    TODO\n",
    "    return discounted_rewards"
   ]
  },
  {
   "cell_type": "code",
   "execution_count": 29,
   "metadata": {},
   "outputs": [],
   "source": [
    "# %load solutions/exercise_1_4.py"
   ]
  },
  {
   "cell_type": "markdown",
   "metadata": {},
   "source": [
    "### Architecture\n",
    "\n",
    "As before we will define a very simple architecture to our neural network : A MLP with only one hidden layer and 8 neurons.\n",
    "\n",
    "We have to be aware here that the neural network will have two different behaviour :\n",
    "\n",
    "* For training: the model will take two information as an input : The observations (to predict the action), and the discounted rate (also call advantages) that will be applied on the loss function.\n",
    "* For prediction : the model will take only the observations as an input to predict the action.\n",
    "\n",
    "So we have to define a neural network that can either handle one or two inputs! \n",
    "\n",
    "In keras we define it that way : we define the layers, and we create two models (for training and prediction) that will share the same layers and weight.\n",
    "\n",
    "Here is how we implement it : (Make sure you understand it!) "
   ]
  },
  {
   "cell_type": "code",
   "execution_count": 40,
   "metadata": {},
   "outputs": [],
   "source": [
    "hidden_layer_neurons = 8\n",
    "\n",
    "dimen = env.reset().shape\n",
    "num_actions = 1\n",
    "inp = kl.Input(shape=dimen,name=\"input_x\")\n",
    "adv = kl.Input(shape=[1], name=\"advantages\")\n",
    "x = kl.Dense(hidden_layer_neurons,  activation=\"relu\", \n",
    "                 use_bias=False,\n",
    "                 kernel_initializer=initializer,\n",
    "                 name=\"dense_1\")(inp)\n",
    "out = kl.Dense(num_actions, \n",
    "                   activation=\"sigmoid\", \n",
    "                   kernel_initializer=initializer,\n",
    "                   use_bias=False,\n",
    "                   name=\"out\")(x)\n",
    "\n",
    "model_train = km.Model(inputs=[inp, adv], outputs=out)\n",
    "model_predict = km.Model(inputs=[inp], outputs=out)"
   ]
  },
  {
   "cell_type": "markdown",
   "metadata": {},
   "source": [
    "### Loss Function\n",
    "\n",
    "We will know impement the loss function, which is weighted binary cross entropy, where the weight are the discounted rated computed from the rewards"
   ]
  },
  {
   "cell_type": "code",
   "execution_count": 41,
   "metadata": {},
   "outputs": [],
   "source": [
    "lr = 1e-2\n",
    "\n",
    "def my_custom_loss(y_true, y_pred):\n",
    "\n",
    "    log_lik = - (y_true*K.log(y_pred) + (1-y_true)*K.log(1-y_pred))\n",
    "    return K.mean(log_lik * adv, keepdims=True)\n",
    "model_train.compile(loss=my_custom_loss, optimizer=ko.Adam(lr))\n"
   ]
  },
  {
   "cell_type": "markdown",
   "metadata": {},
   "source": [
    "### Test Function\n",
    "\n",
    "We define a simple function that will run *num_tests* episode following our learned policy to evaluate it."
   ]
  },
  {
   "cell_type": "code",
   "execution_count": 42,
   "metadata": {},
   "outputs": [],
   "source": [
    "# See our trained bot in action\n",
    "def score_model(model, num_tests, render=False):\n",
    "    scores = []    \n",
    "    for num_test in range(num_tests):\n",
    "        observation = env.reset()\n",
    "        reward_sum = 0\n",
    "        while True:\n",
    "            if render:\n",
    "                env.render()\n",
    "\n",
    "            state = np.reshape(observation, [1, dimen])\n",
    "            predict = model.predict([state])[0]\n",
    "            action = 0 if predict>0.5 else 1 \n",
    "            observation, reward, done, _ = env.step(action)\n",
    "            reward_sum += reward\n",
    "            if done:\n",
    "                break\n",
    "        scores.append(reward_sum)\n",
    "    env.close()\n",
    "    return np.mean(scores)"
   ]
  },
  {
   "cell_type": "markdown",
   "metadata": {},
   "source": [
    "### Training"
   ]
  },
  {
   "cell_type": "code",
   "execution_count": 43,
   "metadata": {},
   "outputs": [],
   "source": [
    "# \n",
    "gamma = .99      # -> Discounted reward\n",
    "batch_size = 50  # -> Size of episode before training on a batch\n",
    "dimen = 4        # Size of observation\n",
    "\n",
    "# Stop factor\n",
    "num_episodes = 10000 # Max number of iterations\n",
    "goal = 190           # Stop if our network achieve this goal over *n_test*\n",
    "n_test = 10          "
   ]
  },
  {
   "cell_type": "code",
   "execution_count": 44,
   "metadata": {},
   "outputs": [
    {
     "name": "stdout",
     "output_type": "stream",
     "text": [
      "Average reward for training episode 100: 19.20 Test Score of 10 episode: 11.80 Loss: 0.008441 \n",
      "Average reward for training episode 200: 21.72 Test Score of 10 episode: 15.50 Loss: 0.004267 \n",
      "Average reward for training episode 300: 24.13 Test Score of 10 episode: 10.90 Loss: -0.002394 \n",
      "Average reward for training episode 400: 25.10 Test Score of 10 episode: 135.00 Loss: -0.005455 \n",
      "Average reward for training episode 500: 25.63 Test Score of 10 episode: 130.00 Loss: -0.010016 \n",
      "Average reward for training episode 600: 28.30 Test Score of 10 episode: 113.40 Loss: -0.009024 \n",
      "Average reward for training episode 700: 27.66 Test Score of 10 episode: 128.20 Loss: -0.014874 \n",
      "Average reward for training episode 800: 27.10 Test Score of 10 episode: 127.70 Loss: -0.010019 \n",
      "Average reward for training episode 900: 32.62 Test Score of 10 episode: 101.50 Loss: -0.010076 \n",
      "Average reward for training episode 1000: 32.15 Test Score of 10 episode: 130.30 Loss: -0.018074 \n",
      "Average reward for training episode 1100: 37.14 Test Score of 10 episode: 136.80 Loss: -0.011314 \n",
      "Average reward for training episode 1200: 33.96 Test Score of 10 episode: 104.30 Loss: -0.007415 \n",
      "Average reward for training episode 1300: 40.27 Test Score of 10 episode: 155.30 Loss: -0.008944 \n",
      "Average reward for training episode 1400: 42.64 Test Score of 10 episode: 165.80 Loss: -0.008094 \n",
      "Average reward for training episode 1500: 42.13 Test Score of 10 episode: 154.00 Loss: -0.005120 \n",
      "Average reward for training episode 1600: 42.49 Test Score of 10 episode: 132.00 Loss: -0.004384 \n",
      "Average reward for training episode 1700: 39.93 Test Score of 10 episode: 129.80 Loss: -0.013923 \n",
      "Average reward for training episode 1800: 42.18 Test Score of 10 episode: 162.40 Loss: -0.019319 \n",
      "Average reward for training episode 1900: 42.86 Test Score of 10 episode: 147.70 Loss: -0.012362 \n",
      "Average reward for training episode 2000: 45.04 Test Score of 10 episode: 133.00 Loss: -0.017425 \n",
      "Average reward for training episode 2100: 40.75 Test Score of 10 episode: 134.10 Loss: -0.012916 \n",
      "Average reward for training episode 2200: 48.15 Test Score of 10 episode: 163.00 Loss: -0.003190 \n",
      "Average reward for training episode 2300: 50.82 Test Score of 10 episode: 151.80 Loss: -0.007953 \n",
      "Average reward for training episode 2400: 49.86 Test Score of 10 episode: 124.20 Loss: -0.007740 \n",
      "Average reward for training episode 2500: 54.90 Test Score of 10 episode: 153.60 Loss: -0.009266 \n",
      "Average reward for training episode 2600: 57.94 Test Score of 10 episode: 152.80 Loss: -0.007992 \n",
      "Average reward for training episode 2700: 56.10 Test Score of 10 episode: 168.00 Loss: -0.016257 \n",
      "Average reward for training episode 2800: 60.23 Test Score of 10 episode: 169.40 Loss: -0.005477 \n",
      "Average reward for training episode 2900: 61.34 Test Score of 10 episode: 177.20 Loss: -0.007775 \n",
      "Average reward for training episode 3000: 61.73 Test Score of 10 episode: 149.70 Loss: -0.011259 \n",
      "Average reward for training episode 3100: 60.36 Test Score of 10 episode: 168.70 Loss: -0.006787 \n",
      "Average reward for training episode 3200: 65.99 Test Score of 10 episode: 182.60 Loss: -0.006243 \n",
      "Average reward for training episode 3300: 66.20 Test Score of 10 episode: 198.20 Loss: -0.010276 \n",
      "Solved in 3299 episodes!\n"
     ]
    }
   ],
   "source": [
    "\n",
    "\n",
    "# Placeholders for our observations, outputs and rewards\n",
    "states = np.empty(0).reshape(0,dimen)\n",
    "actions = np.empty(0).reshape(0,1)\n",
    "rewards = np.empty(0).reshape(0,1)\n",
    "discounted_rewards = np.empty(0).reshape(0,1)\n",
    "\n",
    "# Setting up our environment\n",
    "observation = env.reset()\n",
    "num_episode = 0\n",
    "reward_sum = 0\n",
    "\n",
    "losses = []\n",
    "\n",
    "while num_episode < num_episodes:\n",
    "    \n",
    "    \n",
    "    # Generate state and action for the current iteratio\n",
    "    state = np.reshape(observation, [1, dimen])\n",
    "    predict = model_predict.predict([state])[0]\n",
    "    action = 0 if random.uniform(0,1)< predict else 1 \n",
    "    \n",
    "    # Append the observations and outputs for learning\n",
    "    states = np.vstack([states, state])\n",
    "    actions = np.vstack([actions, action])\n",
    "    \n",
    "    \n",
    "    # Determine the oucome of the action generated \n",
    "    observation, reward, done, _ = env.step(action)\n",
    "    reward_sum += reward\n",
    "    \n",
    "    ##Append the rewards for learning\n",
    "    rewards = np.vstack([rewards, reward])\n",
    "    \n",
    "    \n",
    "    # If the episode if Over \n",
    "    if done:\n",
    "        \n",
    "        \n",
    "        # Computed the discounted rewards for this episode\n",
    "        discounted_rewards_episode = discount_rewards(rewards, gamma)   \n",
    "        \n",
    "        # Append the discounted rewards for learning\n",
    "        discounted_rewards = np.vstack([discounted_rewards, discounted_rewards_episode])\n",
    "        rewards = np.empty(0).reshape(0,1)\n",
    "        \n",
    "        # if we have reach 50=batch_size episodes run training for the build batch\n",
    "        if (num_episode + 1) % batch_size == 0:\n",
    "            \n",
    "            # Normalize the discounted rewards\n",
    "            discounted_rewards -= discounted_rewards.mean()\n",
    "            discounted_rewards /= discounted_rewards.std()\n",
    "            discounted_rewards = discounted_rewards.squeeze()\n",
    "           \n",
    "        \n",
    "            actions_train = 1-actions\n",
    "            loss = model_train.train_on_batch([states, discounted_rewards], actions_train)\n",
    "            losses.append(loss)\n",
    "            \n",
    "            # Clear out game variables\n",
    "            states = np.empty(0).reshape(0,dimen)\n",
    "            actions = np.empty(0).reshape(0,1)\n",
    "            discounted_rewards = np.empty(0).reshape(0,1)\n",
    "\n",
    "          \n",
    "        # Print results periodically\n",
    "        if (num_episode + 1) % print_every == 0:\n",
    "            # Print status\n",
    "            score = score_model(model_predict, n_test)\n",
    "            print(\"Average reward for training episode {}: {:0.2f} Test Score of {:d} episode: {:0.2f} Loss: {:0.6f} \".format(\n",
    "                (num_episode + 1), reward_sum/print_every, n_test,\n",
    "                score,\n",
    "                losses[-1]))\n",
    "            \n",
    "            if score >= goal:\n",
    "                print(\"Solved in {} episodes!\".format(num_episode))\n",
    "                break\n",
    "            reward_sum = 0\n",
    "                \n",
    "        num_episode += 1\n",
    "        observation = env.reset()\n",
    "        "
   ]
  },
  {
   "cell_type": "code",
   "execution_count": 49,
   "metadata": {},
   "outputs": [
    {
     "name": "stdout",
     "output_type": "stream",
     "text": [
      "Game played : 0. Reward for the last 10 episode: []\n",
      "Game played : 10. Reward for the last 10 episode: [200.0, 200.0, 200.0, 200.0, 105.0, 200.0, 200.0, 162.0, 200.0, 200.0]\n",
      "Game played : 20. Reward for the last 10 episode: [124.0, 125.0, 200.0, 200.0, 200.0, 200.0, 128.0, 200.0, 200.0, 200.0]\n",
      "Game played : 30. Reward for the last 10 episode: [95.0, 112.0, 200.0, 96.0, 96.0, 180.0, 200.0, 200.0, 200.0, 200.0]\n",
      "Game played : 40. Reward for the last 10 episode: [200.0, 200.0, 200.0, 200.0, 192.0, 99.0, 200.0, 200.0, 200.0, 200.0]\n",
      "Game played : 50. Reward for the last 10 episode: [200.0, 189.0, 200.0, 200.0, 200.0, 200.0, 200.0, 93.0, 200.0, 200.0]\n",
      "Game played : 60. Reward for the last 10 episode: [200.0, 200.0, 200.0, 200.0, 200.0, 200.0, 200.0, 200.0, 200.0, 200.0]\n",
      "Game played : 70. Reward for the last 10 episode: [158.0, 200.0, 200.0, 200.0, 200.0, 200.0, 184.0, 200.0, 200.0, 200.0]\n",
      "Game played : 80. Reward for the last 10 episode: [200.0, 200.0, 105.0, 200.0, 200.0, 198.0, 200.0, 200.0, 200.0, 200.0]\n",
      "Game played : 90. Reward for the last 10 episode: [200.0, 200.0, 200.0, 200.0, 200.0, 200.0, 200.0, 200.0, 94.0, 172.0]\n",
      "Over 100 episodes, mean reward: 184, std : 32\n"
     ]
    }
   ],
   "source": [
    "reward_sum = 0\n",
    "num_games = 100       \n",
    "num_game = 0\n",
    "all_reward_sum = []\n",
    "obs = env.reset()\n",
    "reward\n",
    "while num_game < num_games:\n",
    "    # hard-coded policy\n",
    "    p_left = model_predict.predict(np.expand_dims(obs,axis=0))\n",
    "    action = 0 if p_left[0][0]>0.5 else 1 \n",
    "    obs, reward, done, info = env.step(action)\n",
    "    reward_sum += reward\n",
    "    if done:\n",
    "        if num_game %10 == 0:\n",
    "            print(\"Game played : %d. Reward for the last 10 episode: %s\" %(num_game,all_reward_sum[-10:]) )\n",
    "        all_reward_sum.append(reward_sum)\n",
    "        reward_sum = 0\n",
    "        num_game += 1\n",
    "        env.reset()\n",
    "print(\"Over %d episodes, mean reward: %d, std : %d\" %(num_games, np.mean(all_reward_sum), np.std(all_reward_sum)))"
   ]
  },
  {
   "cell_type": "code",
   "execution_count": 48,
   "metadata": {},
   "outputs": [
    {
     "data": {
      "text/plain": [
       "200"
      ]
     },
     "execution_count": 48,
     "metadata": {},
     "output_type": "execute_result"
    }
   ],
   "source": [
    "n_max_steps = 10000\n",
    "frames = []\n",
    "\n",
    "n_step_before_fail = 0\n",
    "\n",
    "obs = env.reset()\n",
    "for step in range(n_max_steps):\n",
    "    img = env.render(mode = \"rgb_array\")\n",
    "    env.close()\n",
    "    frames.append(img)\n",
    "    p_left = model_predict.predict(np.expand_dims(obs,axis=0))\n",
    "    action = 0 if p_left[0][0]>0.5 else 1 \n",
    "    obs, reward, done, info = env.step(action)\n",
    "    n_step_before_fail +=1\n",
    "\n",
    "    if done:\n",
    "        break\n",
    "\n",
    "env.close()\n",
    "n_step_before_fail "
   ]
  },
  {
   "cell_type": "code",
   "execution_count": null,
   "metadata": {},
   "outputs": [],
   "source": [
    "plt.close()\n",
    "HTML(plot_animation(frames).to_html5_video())"
   ]
  }
 ],
 "metadata": {
  "kernelspec": {
   "display_name": "Python 3",
   "language": "python",
   "name": "python3"
  },
  "language_info": {
   "codemirror_mode": {
    "name": "ipython",
    "version": 3
   },
   "file_extension": ".py",
   "mimetype": "text/x-python",
   "name": "python",
   "nbconvert_exporter": "python",
   "pygments_lexer": "ipython3",
   "version": "3.6.7"
  }
 },
 "nbformat": 4,
 "nbformat_minor": 2
}
